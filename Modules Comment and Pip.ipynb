{
 "cells": [
  {
   "cell_type": "markdown",
   "id": "6bbd398a-4c08-40f7-87a8-a0b5ad0cc3d0",
   "metadata": {},
   "source": [
    "# FIRST PYTHON PROGRAM"
   ]
  },
  {
   "cell_type": "code",
   "execution_count": 4,
   "id": "78d8ea54-34db-4bca-97a1-21892fa5c6fb",
   "metadata": {},
   "outputs": [
    {
     "name": "stdout",
     "output_type": "stream",
     "text": [
      "Hello World\n"
     ]
    }
   ],
   "source": [
    "print(\"Hello World\")"
   ]
  },
  {
   "cell_type": "markdown",
   "id": "df9407c9-4a11-49d0-bd73-9e57bad6cb6e",
   "metadata": {},
   "source": [
    "# 1.Write a program to print \"Twinkle Twinkle Little Star\" poem using python."
   ]
  },
  {
   "cell_type": "code",
   "execution_count": 7,
   "id": "cfb7571d-3b44-48f0-9101-0d4fdab89d6d",
   "metadata": {},
   "outputs": [
    {
     "name": "stdout",
     "output_type": "stream",
     "text": [
      "Twinkle Twinkle, Little Star\n",
      "How I wonder what you are\n",
      "Up above the world so high\n",
      "Like a diamond in the sky\n",
      "Twinkle Twinkle Little Star\n",
      "How I wonder what you are!\n"
     ]
    }
   ],
   "source": [
    "print('''Twinkle Twinkle, Little Star\n",
    "How I wonder what you are\n",
    "Up above the world so high\n",
    "Like a diamond in the sky\n",
    "Twinkle Twinkle Little Star\n",
    "How I wonder what you are!''')"
   ]
  }
 ],
 "metadata": {
  "kernelspec": {
   "display_name": "Python 3 (ipykernel)",
   "language": "python",
   "name": "python3"
  },
  "language_info": {
   "codemirror_mode": {
    "name": "ipython",
    "version": 3
   },
   "file_extension": ".py",
   "mimetype": "text/x-python",
   "name": "python",
   "nbconvert_exporter": "python",
   "pygments_lexer": "ipython3",
   "version": "3.11.7"
  }
 },
 "nbformat": 4,
 "nbformat_minor": 5
}
